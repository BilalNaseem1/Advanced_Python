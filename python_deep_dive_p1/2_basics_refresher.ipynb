{
 "cells": [
  {
   "cell_type": "markdown",
   "metadata": {},
   "source": [
    "## Numbers:\n",
    "1. Integral\n",
    "    - Integers\n",
    "    - Booleans\n",
    "2. Non-Integral\n",
    "    - Floats\n",
    "    - Complex\n",
    "    - Decimals (more control on precision than float)\n",
    "    - Fractions (1/3 is 0.333... inf precision)"
   ]
  },
  {
   "cell_type": "markdown",
   "metadata": {},
   "source": [
    "## Collections\n",
    "1. Sequences\n",
    "    - Mutable\n",
    "        - Lists\n",
    "    - Immutable\n",
    "        - Tuples\n",
    "        - Strings\n",
    "2. Sets\n",
    "    - Mutable\n",
    "        - Sets\n",
    "    - Immutable\n",
    "        - Frozen Sets\n",
    "3. Mappings\n",
    "    - Dictionaries\n",
    "\n",
    "**Note: Dictionaries and sets are related to each other (both are hash maps - sets are not key value pairs)"
   ]
  },
  {
   "cell_type": "markdown",
   "metadata": {},
   "source": [
    "## Callables\n",
    "Anything that we can call for e.g. functions\n",
    "1. User-defined functions\n",
    "2. Generators\n",
    "3. Classes\n",
    "4. Instance Methods - functions inside a class\n",
    "5. Class Instances (\\_\\_call\\_\\_()) - dunders\n",
    "6. built-in functions - len()\n",
    "7. built-in methods - my_list.append(x)"
   ]
  },
  {
   "cell_type": "markdown",
   "metadata": {},
   "source": [
    "## Singletons\n",
    "1. None\n",
    "2. NotImplemented\n",
    "3. Ellipses"
   ]
  },
  {
   "cell_type": "markdown",
   "metadata": {},
   "source": [
    "- \\ is used for explicitly breaking to next line. without it it wont be broken to multiple lines.\n",
    "- multiline strings are part of compiled bytecode, comments are not."
   ]
  },
  {
   "cell_type": "markdown",
   "metadata": {},
   "source": [
    "## Variable names\n",
    "\n",
    "### Single underscore\n",
    "- If identifier starts with a single underscore, it indicates a private object\n",
    "- In python nothing is private, so more of internal use\n",
    "- we can access it but cant import it using statements like *from module import \\**"
   ]
  },
  {
   "cell_type": "markdown",
   "metadata": {},
   "source": []
  }
 ],
 "metadata": {
  "language_info": {
   "name": "python"
  }
 },
 "nbformat": 4,
 "nbformat_minor": 2
}
