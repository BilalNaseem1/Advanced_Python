{
 "cells": [
  {
   "cell_type": "markdown",
   "id": "cdf0202e-50e1-4cbe-a091-6fb043abf0b3",
   "metadata": {},
   "source": [
    "# Lecture 9"
   ]
  },
  {
   "cell_type": "markdown",
   "id": "bc2e747c-da3f-46de-b3c2-ab01faa7658c",
   "metadata": {},
   "source": [
    "### del keyword"
   ]
  },
  {
   "cell_type": "markdown",
   "id": "f4619e91-6f42-4981-8da0-dd7a390ed8ca",
   "metadata": {},
   "source": [
    "- used to delete an object or its properties"
   ]
  },
  {
   "cell_type": "code",
   "execution_count": 1,
   "id": "a4403b03-d94c-49a5-8c19-5792e07e1543",
   "metadata": {},
   "outputs": [],
   "source": [
    "class Student:\n",
    "    def __init__(self, name):\n",
    "        self.name = name\n",
    "\n",
    "s1 = Student(\"Bilal\")"
   ]
  },
  {
   "cell_type": "code",
   "execution_count": 2,
   "id": "5ca87f96-6cce-47e9-aaf7-6ec93d06fa01",
   "metadata": {},
   "outputs": [
    {
     "data": {
      "text/plain": [
       "<__main__.Student at 0x7773ef1efb60>"
      ]
     },
     "execution_count": 2,
     "metadata": {},
     "output_type": "execute_result"
    }
   ],
   "source": [
    "s1"
   ]
  },
  {
   "cell_type": "code",
   "execution_count": 3,
   "id": "572c817b-5808-419d-a2e1-4195d6f8e1f6",
   "metadata": {},
   "outputs": [],
   "source": [
    "del s1"
   ]
  },
  {
   "cell_type": "code",
   "execution_count": 4,
   "id": "e741780d-d278-4ef7-b7bb-b906be32e056",
   "metadata": {},
   "outputs": [
    {
     "ename": "NameError",
     "evalue": "name 's1' is not defined",
     "output_type": "error",
     "traceback": [
      "\u001b[0;31m---------------------------------------------------------------------------\u001b[0m",
      "\u001b[0;31mNameError\u001b[0m                                 Traceback (most recent call last)",
      "Cell \u001b[0;32mIn[4], line 1\u001b[0m\n\u001b[0;32m----> 1\u001b[0m \u001b[43ms1\u001b[49m\n",
      "\u001b[0;31mNameError\u001b[0m: name 's1' is not defined"
     ]
    }
   ],
   "source": [
    "s1"
   ]
  },
  {
   "cell_type": "markdown",
   "id": "97bc9e93-1f50-4c0a-8c90-71cd060c42d5",
   "metadata": {},
   "source": [
    "- similarly:\n",
    "```python\n",
    "del s1.name\n",
    "```"
   ]
  },
  {
   "cell_type": "markdown",
   "id": "3500b3f8-9b26-48ad-8243-fac3b4529950",
   "metadata": {},
   "source": [
    "### Private attributes and methods"
   ]
  },
  {
   "cell_type": "markdown",
   "id": "fc485c1f-6780-4900-a172-22883a43717d",
   "metadata": {},
   "source": [
    "- If anything we dont want to access outside class - they are meant to be only used inside the class\n",
    "- In python nothing is private btw"
   ]
  },
  {
   "cell_type": "markdown",
   "id": "7d3fde46-98a0-493a-bb30-3cd36709d76a",
   "metadata": {},
   "source": [
    "**4 Pillars of OOP**\n",
    "1. Abstraction\n",
    "2. Encapsulation\n",
    "3. Inheritence\n",
    "4. "
   ]
  },
  {
   "cell_type": "markdown",
   "id": "9ecab5c3-318f-4b05-8dbe-cb6f307cf869",
   "metadata": {},
   "source": [
    "### Inheritence"
   ]
  },
  {
   "cell_type": "markdown",
   "id": "e6000dc0-a733-4acc-92a5-41a9726a0b0b",
   "metadata": {},
   "source": [
    "- When one class (child/derived) derives the properties and methods of another parent/base class"
   ]
  },
  {
   "cell_type": "code",
   "execution_count": 6,
   "id": "e6822e69-90ee-477a-8f9b-2dbfb9a4d8c3",
   "metadata": {},
   "outputs": [],
   "source": [
    "class Car:\n",
    "    @staticmethod\n",
    "    def start():\n",
    "        print(\"car started\")\n",
    "\n",
    "\n",
    "    @staticmethod\n",
    "    def stop():\n",
    "        print(\"car stopped\")\n",
    "\n",
    "\n",
    "class Toyota(Car):  # Inheritence - inheriting properties and methods from the car class\n",
    "     def __init__(self, name):\n",
    "         self.name = name\n",
    "\n",
    "car1 = Toyota(\"fortuner\")\n",
    "car2 = Toyota(\"prius\")\n",
    "    "
   ]
  },
  {
   "cell_type": "code",
   "execution_count": 7,
   "id": "241b36c3-0953-42e3-9b44-5b0e734652e5",
   "metadata": {},
   "outputs": [
    {
     "name": "stdout",
     "output_type": "stream",
     "text": [
      "fortuner\n"
     ]
    }
   ],
   "source": [
    "print(car1.name)"
   ]
  },
  {
   "cell_type": "code",
   "execution_count": 8,
   "id": "90953aee-be07-42b9-8c3f-3fc9f6848eb1",
   "metadata": {},
   "outputs": [
    {
     "name": "stdout",
     "output_type": "stream",
     "text": [
      "car started\n",
      "None\n"
     ]
    }
   ],
   "source": [
    "print(car1.start())"
   ]
  },
  {
   "cell_type": "markdown",
   "id": "e1d95a9b-c06e-4d2b-8dcc-8efc9d27b140",
   "metadata": {},
   "source": [
    "**Multiple Inheritence:** A class inheriting properties from multiple parent classes"
   ]
  },
  {
   "cell_type": "code",
   "execution_count": 11,
   "id": "627c7ec4-d6cb-4313-82ea-3737b1cd6496",
   "metadata": {},
   "outputs": [],
   "source": [
    "class A:\n",
    "    varA = \"This is class A\"\n",
    "\n",
    "class B:\n",
    "    varB = \"This is class B\"\n",
    "\n",
    "class C(A, B):\n",
    "    varC = \"This is class C\""
   ]
  },
  {
   "cell_type": "code",
   "execution_count": 12,
   "id": "d9909341-4925-4e72-9b2d-d3adf39a967a",
   "metadata": {},
   "outputs": [
    {
     "name": "stdout",
     "output_type": "stream",
     "text": [
      "This is class A\n",
      "This is class B\n",
      "This is class C\n"
     ]
    }
   ],
   "source": [
    "x = C()\n",
    "\n",
    "print(x.varA)\n",
    "print(x.varB)\n",
    "print(x.varC)"
   ]
  },
  {
   "cell_type": "markdown",
   "id": "ff8d29c9-aabb-47a6-9651-833f7165089d",
   "metadata": {},
   "source": [
    "# Super Method"
   ]
  },
  {
   "cell_type": "markdown",
   "id": "617b83cc-61e3-4034-aa94-e2ac71d84ef8",
   "metadata": {},
   "source": [
    "It is used to access methods of the parent class"
   ]
  },
  {
   "cell_type": "code",
   "execution_count": null,
   "id": "09f9a80b-9517-49e5-a42f-e6ba3e3960d7",
   "metadata": {},
   "outputs": [],
   "source": []
  }
 ],
 "metadata": {
  "kernelspec": {
   "display_name": "Python 3 (ipykernel)",
   "language": "python",
   "name": "python3"
  },
  "language_info": {
   "codemirror_mode": {
    "name": "ipython",
    "version": 3
   },
   "file_extension": ".py",
   "mimetype": "text/x-python",
   "name": "python",
   "nbconvert_exporter": "python",
   "pygments_lexer": "ipython3",
   "version": "3.12.3"
  }
 },
 "nbformat": 4,
 "nbformat_minor": 5
}
